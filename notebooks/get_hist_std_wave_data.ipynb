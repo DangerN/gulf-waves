{
 "cells": [
  {
   "cell_type": "code",
   "execution_count": null,
   "id": "0",
   "metadata": {},
   "outputs": [],
   "source": [
    "import pandas as pd\n",
    "import awswrangler as wr"
   ]
  },
  {
   "cell_type": "code",
   "execution_count": null,
   "id": "1",
   "metadata": {
    "editable": true,
    "slideshow": {
     "slide_type": ""
    },
    "tags": [
     "parameters"
    ]
   },
   "outputs": [],
   "source": [
    "# this cell tagged as 'parameters'\n",
    "min_year = 1995\n",
    "max_year = 2024\n",
    "station_id = 42039"
   ]
  },
  {
   "cell_type": "code",
   "execution_count": null,
   "id": "2",
   "metadata": {
    "editable": true,
    "slideshow": {
     "slide_type": ""
    },
    "tags": []
   },
   "outputs": [],
   "source": [
    "columns = [\n",
    "    'year',\n",
    "    'month',\n",
    "    'day',\n",
    "    'hour',\n",
    "    'minute',\n",
    "    'wind_dir',\n",
    "    'wind_spd',\n",
    "    'gust',\n",
    "    'wave_height',\n",
    "    'dominant_period',\n",
    "    'avg_period',\n",
    "    'wave_direction',\n",
    "    'pressure',\n",
    "    'air_temp',\n",
    "    'water_temp',\n",
    "    'dew_point',\n",
    "    'visibility',\n",
    "    'tide'\n",
    "]\n",
    "col_nans = {\n",
    "    'wind_dir': 999,\n",
    "    'wind_spd': 99.0,\n",
    "    'gust': 99.0,\n",
    "    'wave_height': 99.0,\n",
    "    'dominant_period': 99.0,\n",
    "    'avg_period': 99.0,\n",
    "    'wave_direction': 999,\n",
    "    'pressure': 9999.0,\n",
    "    'air_temp': 999.0,\n",
    "    'water_temp': 999.0,\n",
    "    'dew_point': 99.0,\n",
    "    'visibility': 99.0,\n",
    "    'tide': 99.0\n",
    "}\n",
    "\n",
    "# x = pd.read_fwf(\n",
    "#     'https://www.ndbc.noaa.gov/view_text_file.php?filename=42039h2023.txt.gz&dir=data/historical/stdmet/',\n",
    "#     skiprows=2,\n",
    "#     names=columns,\n",
    "#     infer_nrows=500\n",
    "# )\n"
   ]
  },
  {
   "cell_type": "code",
   "execution_count": null,
   "id": "3",
   "metadata": {},
   "outputs": [],
   "source": [
    "def nan_cols(col: pd.Series):\n",
    "    if col.name not in col_nans:\n",
    "        return col\n",
    "    return col.replace(col_nans[col.name], np.nan)\n"
   ]
  },
  {
   "cell_type": "code",
   "execution_count": null,
   "id": "4",
   "metadata": {
    "editable": true,
    "slideshow": {
     "slide_type": ""
    },
    "tags": []
   },
   "outputs": [],
   "source": [
    "# x = x.apply(nan_cols)"
   ]
  },
  {
   "cell_type": "code",
   "execution_count": null,
   "id": "5",
   "metadata": {
    "editable": true,
    "slideshow": {
     "slide_type": ""
    },
    "tags": []
   },
   "outputs": [],
   "source": [
    "# x"
   ]
  },
  {
   "cell_type": "code",
   "execution_count": null,
   "id": "6",
   "metadata": {
    "editable": true,
    "slideshow": {
     "slide_type": ""
    },
    "tags": []
   },
   "outputs": [],
   "source": [
    "x.info()\n",
    "# hist"
   ]
  },
  {
   "cell_type": "code",
   "execution_count": null,
   "id": "7",
   "metadata": {
    "editable": true,
    "slideshow": {
     "slide_type": ""
    },
    "tags": []
   },
   "outputs": [],
   "source": [
    "hist_waves = list()\n",
    "from urllib.error import HTTPError\n",
    "\n",
    "\n",
    "for year in range(min_year, max_year):\n",
    "    # print(year)\n",
    "    try:\n",
    "        file_uri = f'https://www.ndbc.noaa.gov/view_text_file.php?filename={station_id}h{year}.txt.gz&dir=data/historical/stdmet/'\n",
    "        df = pd.read_fwf(\n",
    "            file_uri,\n",
    "            skiprows=2,\n",
    "            names=columns,\n",
    "            infer_nrows=500\n",
    "        ).apply(nan_cols)\n",
    "        hist_waves.append(df)\n",
    "    except HTTPError as e:\n",
    "        # print('skibidi')\n",
    "        if e.code == 404:\n",
    "            print(f'404: {file_uri}')\n",
    "            continue\n",
    "        raise e"
   ]
  },
  {
   "cell_type": "code",
   "execution_count": null,
   "id": "8",
   "metadata": {
    "editable": true,
    "slideshow": {
     "slide_type": ""
    },
    "tags": []
   },
   "outputs": [],
   "source": [
    "hw_df = pd.concat(hist_waves)"
   ]
  },
  {
   "cell_type": "code",
   "execution_count": null,
   "id": "9",
   "metadata": {
    "editable": true,
    "slideshow": {
     "slide_type": ""
    },
    "tags": []
   },
   "outputs": [],
   "source": [
    "hw_df.info()"
   ]
  },
  {
   "cell_type": "code",
   "execution_count": null,
   "id": "10",
   "metadata": {
    "editable": true,
    "slideshow": {
     "slide_type": ""
    },
    "tags": []
   },
   "outputs": [],
   "source": [
    "hw_df.sample(10)"
   ]
  },
  {
   "cell_type": "code",
   "execution_count": null,
   "id": "11",
   "metadata": {
    "editable": true,
    "slideshow": {
     "slide_type": ""
    },
    "tags": []
   },
   "outputs": [],
   "source": []
  }
 ],
 "metadata": {
  "kernelspec": {
   "display_name": "Python 3 (ipykernel)",
   "language": "python",
   "name": "python3"
  },
  "language_info": {
   "codemirror_mode": {
    "name": "ipython",
    "version": 3
   },
   "file_extension": ".py",
   "mimetype": "text/x-python",
   "name": "python",
   "nbconvert_exporter": "python",
   "pygments_lexer": "ipython3",
   "version": "3.10.16"
  }
 },
 "nbformat": 4,
 "nbformat_minor": 5
}
