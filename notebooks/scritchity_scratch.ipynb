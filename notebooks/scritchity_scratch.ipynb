{
 "cells": [
  {
   "cell_type": "code",
   "execution_count": 1,
   "id": "a02e2e8b-9344-44ff-8ef2-1367aa203156",
   "metadata": {},
   "outputs": [
    {
     "name": "stdout",
     "output_type": "stream",
     "text": [
      "Total size of objects in prefix 'data/raw/historic_smd/': 2836092722 bytes\n"
     ]
    }
   ],
   "source": [
    "import boto3\n",
    "\n",
    "def get_prefix_size(bucket_name, prefix):\n",
    "    \"\"\"\n",
    "    Calculates the total size of objects in an S3 prefix.\n",
    "\n",
    "    Args:\n",
    "      bucket_name: The name of the S3 bucket.\n",
    "      prefix: The prefix to search.\n",
    "\n",
    "    Returns:\n",
    "      The total size of the objects in bytes.\n",
    "    \"\"\"\n",
    "    s3 = boto3.client('s3')\n",
    "    total_size = 0\n",
    "    paginator = s3.get_paginator('list_objects_v2')\n",
    "    pages = paginator.paginate(Bucket=bucket_name, Prefix=prefix)\n",
    "    for page in pages:\n",
    "        for obj in page.get('Contents',):\n",
    "            total_size += obj['Size']\n",
    "    return total_size\n",
    "\n",
    "#s3://gulf-waves/data/raw/historic_smd/\n",
    "# Example usage\n",
    "bucket_name = 'gulf-waves'\n",
    "prefix = 'data/raw/historic_smd/'\n",
    "total_size = get_prefix_size(bucket_name, prefix)\n",
    "print(f\"Total size of objects in prefix '{prefix}': {total_size} bytes\")"
   ]
  },
  {
   "cell_type": "code",
   "execution_count": 2,
   "id": "306ba77c-e9b4-493f-9039-47d55e0b2e48",
   "metadata": {},
   "outputs": [
    {
     "name": "stdout",
     "output_type": "stream",
     "text": [
      "Total size of objects in prefix 'data/raw/historic_smd/': 2.6 GB\n"
     ]
    }
   ],
   "source": [
    "import boto3\n",
    "\n",
    "def get_prefix_size(bucket_name, prefix):\n",
    "    \"\"\"\n",
    "    Calculates the total size of objects in an S3 prefix and returns it in human-readable format.\n",
    "\n",
    "    Args:\n",
    "      bucket_name: The name of the S3 bucket.\n",
    "      prefix: The prefix to search.\n",
    "\n",
    "    Returns:\n",
    "      The total size of the objects in human-readable format (e.g., \"1.2 KB\", \"3.5 MB\", \"2.1 GB\").\n",
    "    \"\"\"\n",
    "    s3 = boto3.client('s3')\n",
    "    total_size = 0\n",
    "    paginator = s3.get_paginator('list_objects_v2')\n",
    "    pages = paginator.paginate(Bucket=bucket_name, Prefix=prefix)\n",
    "    for page in pages:\n",
    "        for obj in page.get('Contents',):\n",
    "            total_size += obj['Size']\n",
    "\n",
    "    for unit in ['B', 'KB', 'MB', 'GB', 'TB']:\n",
    "        if total_size < 1024.0:\n",
    "            return f\"{total_size:.1f} {unit}\"\n",
    "        total_size /= 1024.0\n",
    "\n",
    "    return f\"{total_size:.1f} PB\"\n",
    "\n",
    "# Example usage\n",
    "bucket_name = 'gulf-waves'\n",
    "prefix = 'data/raw/historic_smd/'\n",
    "total_size = get_prefix_size(bucket_name, prefix)\n",
    "print(f\"Total size of objects in prefix '{prefix}': {total_size}\")"
   ]
  },
  {
   "cell_type": "code",
   "execution_count": null,
   "id": "deaa1e83-2800-4048-99d4-c25691baec4e",
   "metadata": {},
   "outputs": [],
   "source": []
  }
 ],
 "metadata": {
  "kernelspec": {
   "display_name": "Python 3 (ipykernel)",
   "language": "python",
   "name": "python3"
  },
  "language_info": {
   "codemirror_mode": {
    "name": "ipython",
    "version": 3
   },
   "file_extension": ".py",
   "mimetype": "text/x-python",
   "name": "python",
   "nbconvert_exporter": "python",
   "pygments_lexer": "ipython3",
   "version": "3.10.16"
  }
 },
 "nbformat": 4,
 "nbformat_minor": 5
}
